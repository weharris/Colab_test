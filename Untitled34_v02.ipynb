{
  "nbformat": 4,
  "nbformat_minor": 0,
  "metadata": {
    "colab": {
      "provenance": []
    },
    "kernelspec": {
      "name": "python3",
      "display_name": "Python 3"
    },
    "language_info": {
      "name": "python"
    }
  },
  "cells": [
    {
      "cell_type": "code",
      "source": [
        "# Going back in time and doing test 0"
      ],
      "metadata": {
        "id": "GGuZwWqUgK76"
      },
      "execution_count": null,
      "outputs": []
    },
    {
      "cell_type": "code",
      "execution_count": null,
      "metadata": {
        "id": "RtRhbzh-eNpz",
        "outputId": "042f2a36-9413-4f8e-dfa1-a52a5e2f5d4e",
        "colab": {
          "base_uri": "https://localhost:8080/"
        }
      },
      "outputs": [
        {
          "output_type": "execute_result",
          "data": {
            "text/plain": [
              "4"
            ]
          },
          "metadata": {},
          "execution_count": 1
        }
      ],
      "source": [
        "# Test 1\n",
        "2+2"
      ]
    },
    {
      "cell_type": "code",
      "source": [
        "# test 2\n",
        "pi = 3.14159\n",
        "print(pi)"
      ],
      "metadata": {
        "id": "aZfXB_GmkFnu",
        "outputId": "4a1112d1-5738-4796-c8a9-1281f838ebe9",
        "colab": {
          "base_uri": "https://localhost:8080/"
        }
      },
      "execution_count": 2,
      "outputs": [
        {
          "output_type": "stream",
          "name": "stdout",
          "text": [
            "3.14159\n"
          ]
        }
      ]
    }
  ]
}